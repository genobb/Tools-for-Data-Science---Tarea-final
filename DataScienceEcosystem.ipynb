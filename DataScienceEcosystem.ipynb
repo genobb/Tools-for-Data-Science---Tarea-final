{
 "cells": [
  {
   "cell_type": "markdown",
   "id": "6876e68b-c47c-439c-b3bd-9a99c7ba29f1",
   "metadata": {},
   "source": [
    "# Data Science Tools and Ecosystem"
   ]
  },
  {
   "cell_type": "markdown",
   "id": "c334ea71-3461-4833-9cd2-cdef1cb7afab",
   "metadata": {},
   "source": [
    "En este notebook haremos un ligero repaso sobre las herramientras en la Ciencia de Datos y su ecosistema."
   ]
  },
  {
   "cell_type": "markdown",
   "id": "cffdff05-fce2-4ff9-a383-f52f1f3ec9da",
   "metadata": {},
   "source": [
    "**Objetivos**\n",
    "* Lenguajes de programación en la Ciencia de Datos\n",
    "* Librerias en Ciencia de Datos\n",
    "* Herramientas en Ciencia de Datos\n",
    "* Expresiones aritméticas en Python"
   ]
  },
  {
   "cell_type": "markdown",
   "id": "d5822d23-efc2-4aaa-8428-9dee15eedeab",
   "metadata": {},
   "source": [
    "*Algunos de los lenguajes de programación populares en la Ciencia de Datos:*\n",
    "\n",
    "1. Python\n",
    "2. R\n",
    "3. Julia"
   ]
  },
  {
   "cell_type": "markdown",
   "id": "9b8bd461-6e65-4123-bec7-a58a8d892513",
   "metadata": {},
   "source": [
    "*Algunos de las librerias más usadas en la Ciencias de Datos:*\n",
    "\n",
    "1. Pandas (python)\n",
    "2. Numpy (python)\n",
    "3. ggplot2 (R)"
   ]
  },
  {
   "cell_type": "markdown",
   "id": "34154bd4-bc1b-4b3a-b450-dec219d2498b",
   "metadata": {},
   "source": [
    "|**Herramientras en la Ciencia de Datos**|\n",
    "|-|\n",
    "|Jupyter Notebooks|\n",
    "|R Studio|\n",
    "|GitHub|"
   ]
  },
  {
   "cell_type": "markdown",
   "id": "3acaf0b5-40d1-46de-adbb-0ec444e14ae9",
   "metadata": {},
   "source": [
    "### A continuación, algunos ejemplos de expresiones artiméticas en python"
   ]
  },
  {
   "cell_type": "code",
   "execution_count": 7,
   "id": "b4434ed2-0bd6-4c89-acbf-75d5976d34c8",
   "metadata": {},
   "outputs": [
    {
     "data": {
      "text/plain": [
       "(7, 7, 5.625)"
      ]
     },
     "execution_count": 7,
     "metadata": {},
     "output_type": "execute_result"
    }
   ],
   "source": [
    "2+5, 9-2, 45/8"
   ]
  },
  {
   "cell_type": "code",
   "execution_count": 8,
   "id": "8865be00-b2cd-46a9-b6f2-dc1988ccc00a",
   "metadata": {},
   "outputs": [
    {
     "data": {
      "text/plain": [
       "17"
      ]
     },
     "execution_count": 8,
     "metadata": {},
     "output_type": "execute_result"
    }
   ],
   "source": [
    "(3*4)+5\n",
    "#Este es un ejemplo de multiplicación y suma de números enteros"
   ]
  },
  {
   "cell_type": "code",
   "execution_count": 12,
   "id": "86759e45-f84c-4756-b635-60d3ea9fecd5",
   "metadata": {},
   "outputs": [
    {
     "name": "stdout",
     "output_type": "stream",
     "text": [
      "200 minutos equivale a 3.3333333333333335 horas\n"
     ]
    }
   ],
   "source": [
    "x = 200/60\n",
    "print(f\"200 minutos equivale a {x} horas\")\n",
    "#Esta expresión convierte 200 minutos en horas"
   ]
  },
  {
   "cell_type": "markdown",
   "id": "e60e15f9-a594-43eb-806c-0d9ff0023e27",
   "metadata": {},
   "source": [
    "## Autora"
   ]
  },
  {
   "cell_type": "markdown",
   "id": "4abfc307-09ef-4a5f-abf2-fa7653fd4967",
   "metadata": {},
   "source": [
    "Anais Genoveva"
   ]
  },
  {
   "cell_type": "code",
   "execution_count": null,
   "id": "4f6e864c-42ee-496f-a398-5121d0e5811c",
   "metadata": {},
   "outputs": [],
   "source": []
  }
 ],
 "metadata": {
  "kernelspec": {
   "display_name": "Python 3 (ipykernel)",
   "language": "python",
   "name": "python3"
  },
  "language_info": {
   "codemirror_mode": {
    "name": "ipython",
    "version": 3
   },
   "file_extension": ".py",
   "mimetype": "text/x-python",
   "name": "python",
   "nbconvert_exporter": "python",
   "pygments_lexer": "ipython3",
   "version": "3.12.2"
  }
 },
 "nbformat": 4,
 "nbformat_minor": 5
}
